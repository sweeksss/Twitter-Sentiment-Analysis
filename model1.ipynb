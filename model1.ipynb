{
 "cells": [
  {
   "cell_type": "markdown",
   "metadata": {},
   "source": [
    "TWITTER SENTIMENT ANALYSIS"
   ]
  },
  {
   "cell_type": "markdown",
   "metadata": {},
   "source": [
    "MODEL BUILDING"
   ]
  },
  {
   "cell_type": "markdown",
   "metadata": {},
   "source": [
    "IMPORTING NECESSARY LIBRARIES"
   ]
  },
  {
   "cell_type": "code",
   "execution_count": 22,
   "metadata": {},
   "outputs": [],
   "source": [
    "import pandas as pd\n",
    "from sklearn.model_selection import train_test_split\n",
    "from sklearn.feature_extraction.text import TfidfVectorizer\n",
    "from sklearn.linear_model import LogisticRegression\n",
    "from sklearn.metrics import classification_report\n",
    "import numpy as np"
   ]
  },
  {
   "cell_type": "markdown",
   "metadata": {},
   "source": [
    "LOADING THE DATASETS"
   ]
  },
  {
   "cell_type": "code",
   "execution_count": 3,
   "metadata": {},
   "outputs": [],
   "source": [
    "tweets = pd.read_csv(r'C:\\Projects\\Twitter sentiment analysis\\cleaned_tweets.csv')\n",
    "ht_p = pd.read_csv(r'C:\\Projects\\Twitter sentiment analysis\\positive_hashtags.csv')\n",
    "ht_n = pd.read_csv(r'C:\\Projects\\Twitter sentiment analysis\\negative_hashtags.csv')"
   ]
  },
  {
   "cell_type": "code",
   "execution_count": 4,
   "metadata": {},
   "outputs": [
    {
     "data": {
      "text/html": [
       "<div>\n",
       "<style scoped>\n",
       "    .dataframe tbody tr th:only-of-type {\n",
       "        vertical-align: middle;\n",
       "    }\n",
       "\n",
       "    .dataframe tbody tr th {\n",
       "        vertical-align: top;\n",
       "    }\n",
       "\n",
       "    .dataframe thead th {\n",
       "        text-align: right;\n",
       "    }\n",
       "</style>\n",
       "<table border=\"1\" class=\"dataframe\">\n",
       "  <thead>\n",
       "    <tr style=\"text-align: right;\">\n",
       "      <th></th>\n",
       "      <th>target</th>\n",
       "      <th>id</th>\n",
       "      <th>date</th>\n",
       "      <th>flag</th>\n",
       "      <th>user</th>\n",
       "      <th>text</th>\n",
       "      <th>emoji</th>\n",
       "      <th>preprocessed</th>\n",
       "      <th>clean_tweets</th>\n",
       "    </tr>\n",
       "  </thead>\n",
       "  <tbody>\n",
       "    <tr>\n",
       "      <th>3997</th>\n",
       "      <td>0</td>\n",
       "      <td>1468720797</td>\n",
       "      <td>Tue Apr 07 03:21:48 PDT 2009</td>\n",
       "      <td>NO_QUERY</td>\n",
       "      <td>mohdnajwan</td>\n",
       "      <td>what to do</td>\n",
       "      <td>False</td>\n",
       "      <td>[]</td>\n",
       "      <td>NaN</td>\n",
       "    </tr>\n",
       "    <tr>\n",
       "      <th>4233</th>\n",
       "      <td>0</td>\n",
       "      <td>1468771833</td>\n",
       "      <td>Tue Apr 07 03:39:06 PDT 2009</td>\n",
       "      <td>NO_QUERY</td>\n",
       "      <td>goldieloxx</td>\n",
       "      <td>just</td>\n",
       "      <td>False</td>\n",
       "      <td>[]</td>\n",
       "      <td>NaN</td>\n",
       "    </tr>\n",
       "    <tr>\n",
       "      <th>5284</th>\n",
       "      <td>0</td>\n",
       "      <td>1469038754</td>\n",
       "      <td>Tue Apr 07 04:57:00 PDT 2009</td>\n",
       "      <td>NO_QUERY</td>\n",
       "      <td>warisara</td>\n",
       "      <td>and here  http://twitpic.com/2yaxf</td>\n",
       "      <td>False</td>\n",
       "      <td>[]</td>\n",
       "      <td>NaN</td>\n",
       "    </tr>\n",
       "    <tr>\n",
       "      <th>18950</th>\n",
       "      <td>0</td>\n",
       "      <td>1556733475</td>\n",
       "      <td>Sun Apr 19 00:05:23 PDT 2009</td>\n",
       "      <td>NO_QUERY</td>\n",
       "      <td>LouiseRedknapp</td>\n",
       "      <td>up again</td>\n",
       "      <td>False</td>\n",
       "      <td>[]</td>\n",
       "      <td>NaN</td>\n",
       "    </tr>\n",
       "    <tr>\n",
       "      <th>27140</th>\n",
       "      <td>0</td>\n",
       "      <td>1559064681</td>\n",
       "      <td>Sun Apr 19 10:09:43 PDT 2009</td>\n",
       "      <td>NO_QUERY</td>\n",
       "      <td>horriddeath</td>\n",
       "      <td>and it did</td>\n",
       "      <td>False</td>\n",
       "      <td>[]</td>\n",
       "      <td>NaN</td>\n",
       "    </tr>\n",
       "  </tbody>\n",
       "</table>\n",
       "</div>"
      ],
      "text/plain": [
       "       target          id                          date      flag  \\\n",
       "3997        0  1468720797  Tue Apr 07 03:21:48 PDT 2009  NO_QUERY   \n",
       "4233        0  1468771833  Tue Apr 07 03:39:06 PDT 2009  NO_QUERY   \n",
       "5284        0  1469038754  Tue Apr 07 04:57:00 PDT 2009  NO_QUERY   \n",
       "18950       0  1556733475  Sun Apr 19 00:05:23 PDT 2009  NO_QUERY   \n",
       "27140       0  1559064681  Sun Apr 19 10:09:43 PDT 2009  NO_QUERY   \n",
       "\n",
       "                 user                                text  emoji preprocessed  \\\n",
       "3997       mohdnajwan                         what to do   False           []   \n",
       "4233       goldieloxx                               just   False           []   \n",
       "5284         warisara  and here  http://twitpic.com/2yaxf  False           []   \n",
       "18950  LouiseRedknapp                           up again   False           []   \n",
       "27140     horriddeath                         and it did   False           []   \n",
       "\n",
       "      clean_tweets  \n",
       "3997           NaN  \n",
       "4233           NaN  \n",
       "5284           NaN  \n",
       "18950          NaN  \n",
       "27140          NaN  "
      ]
     },
     "execution_count": 4,
     "metadata": {},
     "output_type": "execute_result"
    }
   ],
   "source": [
    "# Filter and create a DataFrame with rows containing missing values in the \"clean_tweets\" column\n",
    "missing_tweets_df = tweets[tweets[\"clean_tweets\"].isnull()]\n",
    "\n",
    "missing_tweets_df.head()"
   ]
  },
  {
   "cell_type": "code",
   "execution_count": 5,
   "metadata": {},
   "outputs": [],
   "source": [
    "# Remove rows with missing values in the \"clean_tweets\" column\n",
    "tweets = tweets.dropna(subset=[\"clean_tweets\"])"
   ]
  },
  {
   "cell_type": "markdown",
   "metadata": {},
   "source": [
    "MODEL PART"
   ]
  },
  {
   "cell_type": "code",
   "execution_count": 6,
   "metadata": {},
   "outputs": [],
   "source": [
    "# Splitting data into features: tweets and labels\n",
    "X = tweets[\"clean_tweets\"]\n",
    "y = tweets[\"target\"]"
   ]
  },
  {
   "cell_type": "code",
   "execution_count": 7,
   "metadata": {},
   "outputs": [],
   "source": [
    "# Train and test split\n",
    "X_train, X_test, y_train, y_test = train_test_split(X, y, test_size=0.2, random_state=42)"
   ]
  },
  {
   "cell_type": "code",
   "execution_count": 8,
   "metadata": {},
   "outputs": [],
   "source": [
    "# Initialize the TF-IDF vectorizer\n",
    "vectorizer = TfidfVectorizer(max_features=10000)"
   ]
  },
  {
   "cell_type": "code",
   "execution_count": 9,
   "metadata": {},
   "outputs": [],
   "source": [
    "# Fit the vectorizer on the training data and transform the tweets into TF-IDF features\n",
    "X_train_tfidf = vectorizer.fit_transform(X_train)\n",
    "X_test_tfidf = vectorizer.transform(X_test)"
   ]
  },
  {
   "cell_type": "markdown",
   "metadata": {},
   "source": [
    "HASHTAGS"
   ]
  },
  {
   "cell_type": "code",
   "execution_count": 12,
   "metadata": {},
   "outputs": [],
   "source": [
    "# Create dictionaries for positive and negative hashtag frequencies\n",
    "positive_hashtag_freq = dict(zip(ht_p[\"Hashtag\"], ht_p[\"Count\"]))\n",
    "negative_hashtag_freq = dict(zip(ht_p[\"Hashtag\"], ht_p[\"Count\"]))"
   ]
  },
  {
   "cell_type": "code",
   "execution_count": 14,
   "metadata": {},
   "outputs": [],
   "source": [
    "# Create arrays for positive and negative hashtag frequencies for each tweet\n",
    "X_train_hashtags = []\n",
    "X_test_hashtags = []\n",
    "\n",
    "for i in [X_train, X_test]:\n",
    "    hashtags_freq = []\n",
    "    for j in i:\n",
    "        pos_freq = sum(positive_hashtag_freq.get(hashtag, 0) for hashtag in j.split())\n",
    "        neg_freq = sum(negative_hashtag_freq.get(hashtag, 0) for hashtag in j.split())\n",
    "        hashtags_freq.append([pos_freq, neg_freq])\n",
    "    if i is X_train:\n",
    "        X_train_hashtags = hashtags_freq\n",
    "    else:\n",
    "        X_test_hashtags = hashtags_freq\n"
   ]
  },
  {
   "cell_type": "code",
   "execution_count": 17,
   "metadata": {},
   "outputs": [
    {
     "name": "stdout",
     "output_type": "stream",
     "text": [
      "Accuracy: 0.771594326116991\n",
      "Classification Report:\n",
      "               precision    recall  f1-score   support\n",
      "\n",
      "           0       0.78      0.75      0.77    159614\n",
      "           4       0.76      0.79      0.78    160308\n",
      "\n",
      "    accuracy                           0.77    319922\n",
      "   macro avg       0.77      0.77      0.77    319922\n",
      "weighted avg       0.77      0.77      0.77    319922\n",
      "\n"
     ]
    }
   ],
   "source": [
    "# Convert the hashtag frequency lists to NumPy arrays\n",
    "X_train_hashtags = np.array(X_train_hashtags)\n",
    "X_test_hashtags = np.array(X_test_hashtags)\n",
    "\n",
    "# Concatenate the TF-IDF features and hashtag frequency features\n",
    "from scipy.sparse import hstack\n",
    "\n",
    "X_train_combined = hstack((X_train_tfidf, X_train_hashtags))\n",
    "X_test_combined = hstack((X_test_tfidf, X_test_hashtags))\n",
    "\n",
    "model = LogisticRegression(max_iter=10000)\n",
    "\n",
    "# Fit the model with combined features\n",
    "model.fit(X_train_combined, y_train)\n",
    "\n",
    "# Predict sentiment on the test data\n",
    "y_pred = model.predict(X_test_combined)\n",
    "\n",
    "# Evaluate the model's performance\n",
    "from sklearn.metrics import accuracy_score, classification_report\n",
    "\n",
    "accuracy = accuracy_score(y_test, y_pred)\n",
    "class_report = classification_report(y_test, y_pred)\n",
    "\n",
    "print(\"Accuracy:\", accuracy)\n",
    "print(\"Classification Report:\\n\", class_report)"
   ]
  }
 ],
 "metadata": {
  "kernelspec": {
   "display_name": "Python 3",
   "language": "python",
   "name": "python3"
  },
  "language_info": {
   "codemirror_mode": {
    "name": "ipython",
    "version": 3
   },
   "file_extension": ".py",
   "mimetype": "text/x-python",
   "name": "python",
   "nbconvert_exporter": "python",
   "pygments_lexer": "ipython3",
   "version": "3.11.1"
  },
  "orig_nbformat": 4
 },
 "nbformat": 4,
 "nbformat_minor": 2
}
